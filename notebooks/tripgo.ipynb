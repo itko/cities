{
 "cells": [
  {
   "cell_type": "code",
   "execution_count": 1,
   "metadata": {},
   "outputs": [],
   "source": [
    "import requests, json\n",
    "from datetime import datetime, timedelta\n",
    "import geopandas as gpd\n",
    "import pandas as pd\n",
    "import matplotlib.pyplot as plt\n",
    "import shapely"
   ]
  },
  {
   "cell_type": "code",
   "execution_count": 2,
   "metadata": {},
   "outputs": [],
   "source": [
    "PROJECTION=32630"
   ]
  },
  {
   "cell_type": "markdown",
   "metadata": {},
   "source": [
    "#### Station ridership"
   ]
  },
  {
   "cell_type": "code",
   "execution_count": 6,
   "metadata": {},
   "outputs": [],
   "source": [
    "counts_en = pd.read_csv('/Users/itto/Documents/cities/data/london/counts/En17week_mod.csv', skiprows=6).set_index(' Station')\n",
    "counts_ex = pd.read_csv('/Users/itto/Documents/cities/data/london/counts/Ex17week.csv', skiprows=6).set_index(' Station')\n",
    "\n",
    "# We only care about the time columns\n",
    "time_columns = counts_en.columns[4:-8]\n",
    "\n",
    "# Easier to work with stations as columns, so transpose\n",
    "data_en = counts_en.loc[:, time_columns].T\n",
    "data_ex = counts_ex.loc[:, time_columns].T\n",
    "\n",
    "# Remove \"Total\" column\n",
    "data_en.drop('Total',axis=1,inplace=True)\n",
    "data_ex.drop('Total',axis=1,inplace=True)\n",
    "\n",
    "# Extract the first time\n",
    "data_en.index = data_en.index.str[:4]\n",
    "data_ex.index = data_en.index.str[:4]\n",
    "\n",
    "# Convert to datetime format\n",
    "data_en.index = pd.to_datetime(data_en.index, format='%H%M')\n",
    "data_ex.index = pd.to_datetime(data_en.index, format='%H%M')\n",
    "\n",
    "# Create a time of day index that we can use from now on\n",
    "time_of_day = {\n",
    "    6: 'morning',\n",
    "    7: 'morning',\n",
    "    8: 'morning',\n",
    "    9: 'morning',\n",
    "    11: 'off',\n",
    "    12: 'off',\n",
    "    13: 'off',\n",
    "    14: 'off',\n",
    "    16: 'afternoon',\n",
    "    17: 'afternoon',\n",
    "    18: 'afternoon',\n",
    "    19: 'afternoon'\n",
    "}\n",
    "time_of_day = data_en.index.hour.map(time_of_day).to_series()\n",
    "time_of_day[time_of_day.isnull()] = 'night'\n",
    "time_of_day = time_of_day.values"
   ]
  },
  {
   "cell_type": "code",
   "execution_count": 7,
   "metadata": {},
   "outputs": [],
   "source": [
    "# Get the entrances and exists for each time interval\n",
    "entrances = data_en.groupby(time_of_day).sum().T\n",
    "exits = data_ex.groupby(time_of_day).sum().T"
   ]
  },
  {
   "cell_type": "code",
   "execution_count": 728,
   "metadata": {},
   "outputs": [],
   "source": [
    "station_geom = gpd.read_file('../data/london/shapes/stations/stations_mod.shp')\n",
    "# Change to UTM\n",
    "station_geom.to_crs(epsg=PROJECTION, inplace=True)\n",
    "# Remove the word \"Station\"\n",
    "station_geom.columns = station_geom.columns.str.lower()\n",
    "station_geom.rename(columns={'geometry':'location'}, inplace=True)\n",
    "station_geom.name = station_geom.name.str.replace('\\t','').str.replace('\\n','').str.replace(' Station','')\n",
    "station_geom.set_index('name', drop=True, inplace=True)\n",
    "\n",
    "# Read Voronoi cells\n",
    "station_voronoi = gpd.read_file('../data/london/shapes/stations/voronoi.shp')\n",
    "station_voronoi.to_crs(epsg=PROJECTION, inplace=True)\n",
    "station_voronoi.columns = station_voronoi.columns.str.lower()\n",
    "station_voronoi.rename(columns={'geometry':'cell'}, inplace=True)\n",
    "station_voronoi.name = station_voronoi.name.str.replace('\\t','').str.replace('\\n','').str.replace(' Station','')\n",
    "station_voronoi.set_index('name', drop=True, inplace=True)\n",
    "\n",
    "# Combine Voronoi with location\n",
    "station_geom['cell'] = station_voronoi.reindex(station_geom.index).cell\n"
   ]
  },
  {
   "cell_type": "markdown",
   "metadata": {},
   "source": [
    "#### Combine the data"
   ]
  },
  {
   "cell_type": "code",
   "execution_count": 13,
   "metadata": {
    "scrolled": false
   },
   "outputs": [],
   "source": [
    "# Combine entrances and station locations data\n",
    "stations = pd.merge(station_geom, entrances, left_index=True, right_index=True)\n",
    "stations['station'] = stations.index"
   ]
  },
  {
   "cell_type": "markdown",
   "metadata": {},
   "source": [
    "### Characterizing TripGo data"
   ]
  },
  {
   "cell_type": "markdown",
   "metadata": {},
   "source": [
    "We will be using an API called TripGO to generate an estimate for the travel time between nodes. Before we can proceed with this API, we should check some assumptions that will be useful later:\n",
    "\n",
    "1. Trips are symmetric. The time from A to B is the same as from B to A.\n",
    "1. Trips are singular. There exists only one shortest-length trip from A to B.\n",
    "1. Frequency is constant. The frequency of shortest length trips (corresponding to the headways) does not change within the morning rush and afternoon rush periods."
   ]
  },
  {
   "cell_type": "code",
   "execution_count": 448,
   "metadata": {},
   "outputs": [],
   "source": [
    "# Prepare a list of 10 random A-to-B pairs\n",
    "from itertools import permutations, combinations\n",
    "coords = stations.set_geometry('location').to_crs(epsg=4326).geometry\n",
    "\n",
    "n = 10\n",
    "points = coords.sample(n*2, replace=False, random_state=37)\n",
    "pairs = []\n",
    "names = []\n",
    "for i in range(0,n*2,2):\n",
    "    p1 = (points.geometry[i].y, points.geometry[i].x)\n",
    "    p2 = (points.geometry[i+1].y, points.geometry[i+1].x)\n",
    "    pairs.append((p1,p2))\n",
    "    names.append((points.index[i], points.index[i+1]))\n",
    "    # Add the inverse\n",
    "    pairs.append((p2,p1))\n",
    "    names.append((points.index[i+1], points.index[i]))"
   ]
  },
  {
   "cell_type": "code",
   "execution_count": 735,
   "metadata": {},
   "outputs": [],
   "source": [
    "time_am = int(datetime(2018,11,21,8,0).timestamp())\n",
    "time_pm = int(datetime(2018,11,21,17,0).timestamp())"
   ]
  },
  {
   "cell_type": "code",
   "execution_count": 736,
   "metadata": {},
   "outputs": [],
   "source": [
    "def get_routes(depart_time, pairs):\n",
    "    url = 'https://api.tripgo.com/v1/'\n",
    "    \n",
    "    headers = {\n",
    "    'Accept': 'application/json',\n",
    "    'X-TripGo-Key': '5c1a480843464d538b24939c266be8b9',\n",
    "    }\n",
    "    \n",
    "    segments = []\n",
    "    routes = []\n",
    "    for i,pair in enumerate(pairs):\n",
    "        print('Routing: from {} to {}'.format(names[i][0], names[i][1]))\n",
    "        p2 = pair[0]\n",
    "        p1 = pair[1]\n",
    "        direction = i%2 # 0 for To and 1 for Return\n",
    "        # Set up request\n",
    "        params = (\n",
    "            ('from', str(p2)),\n",
    "            ('to', str(p1)),\n",
    "            ('modes', 'pt_pub'),\n",
    "            ('v', '11'),\n",
    "            ('locale', 'en'),\n",
    "            ('departAfter', depart_time - 1) #Subtract 1 since it's actually \"depart after\"\n",
    "        )\n",
    "\n",
    "        # Make request\n",
    "        response = requests.get('https://api.tripgo.com/v1/routing.json', headers=headers, params=params)\n",
    "\n",
    "        routing = json.loads(response.text)\n",
    "\n",
    "        segs = pd.DataFrame(routing['segmentTemplates'])\n",
    "        segs['route'] = int(i/2)\n",
    "        segs['direction'] = direction\n",
    "        segs['routeA'] = names[i][0]\n",
    "        segs['routeB'] = names[i][1]\n",
    "        segments.append(segs)\n",
    "\n",
    "        # For all groups\n",
    "        for j,group in enumerate(routing['groups']):\n",
    "            df = pd.DataFrame(group['trips'])\n",
    "            # Meta data\n",
    "            df['route'] = int(i/2)\n",
    "            df['direction'] = direction\n",
    "            df['routeA'] = names[i][0]\n",
    "            df['routeB'] = names[i][1]\n",
    "            df['group'] = j\n",
    "            df['num_segments'] = df.segments.apply(len)\n",
    "            # Preliminary processing\n",
    "            df['length'] = (df.arrive - df.depart)/60\n",
    "            df['depart_time'] = df.depart.apply(datetime.fromtimestamp)\n",
    "            df['arrive_time'] = df.arrive.apply(datetime.fromtimestamp)\n",
    "            # Check if it's a completely underground route\n",
    "            providers = ''\n",
    "            for source in routing['groups'][j]['sources']:\n",
    "                name = source['provider']['name']\n",
    "                if ('Underground' not in name) and ('OpenStreetMap' not in name) and ('London Overground' not in name):\n",
    "                    if len(providers):\n",
    "                        providers += ', '\n",
    "                    providers += name\n",
    "            df['other_providers'] = providers\n",
    "            routes.append(df)\n",
    "    print('Complete.')\n",
    "    return routes"
   ]
  },
  {
   "cell_type": "code",
   "execution_count": 738,
   "metadata": {},
   "outputs": [
    {
     "name": "stdout",
     "output_type": "stream",
     "text": [
      "Routing: from North Acton to Kensington (Olympia)\n",
      "Routing: from Kensington (Olympia) to North Acton\n",
      "Routing: from Russell Square to Belsize Park\n",
      "Routing: from Belsize Park to Russell Square\n",
      "Routing: from Liverpool Street to South Ealing\n",
      "Routing: from South Ealing to Liverpool Street\n",
      "Routing: from Burnt Oak to Highbury & Islington\n",
      "Routing: from Highbury & Islington to Burnt Oak\n",
      "Routing: from Heathrow Terminals 1, 2, 3 to Southgate\n",
      "Routing: from Southgate to Heathrow Terminals 1, 2, 3\n",
      "Routing: from Osterley to Totteridge & Whetstone\n",
      "Routing: from Totteridge & Whetstone to Osterley\n",
      "Routing: from Theydon Bois to Upton Park\n",
      "Routing: from Upton Park to Theydon Bois\n",
      "Routing: from Ladbroke Grove to Hornchurch\n",
      "Routing: from Hornchurch to Ladbroke Grove\n",
      "Routing: from Rayners Lane to Edgware\n",
      "Routing: from Edgware to Rayners Lane\n",
      "Routing: from Chancery Lane to Tottenham Hale\n",
      "Routing: from Tottenham Hale to Chancery Lane\n",
      "Complete.\n",
      "Routing: from North Acton to Kensington (Olympia)\n",
      "Routing: from Kensington (Olympia) to North Acton\n",
      "Routing: from Russell Square to Belsize Park\n",
      "Routing: from Belsize Park to Russell Square\n",
      "Routing: from Liverpool Street to South Ealing\n",
      "Routing: from South Ealing to Liverpool Street\n",
      "Routing: from Burnt Oak to Highbury & Islington\n",
      "Routing: from Highbury & Islington to Burnt Oak\n",
      "Routing: from Heathrow Terminals 1, 2, 3 to Southgate\n",
      "Routing: from Southgate to Heathrow Terminals 1, 2, 3\n",
      "Routing: from Osterley to Totteridge & Whetstone\n",
      "Routing: from Totteridge & Whetstone to Osterley\n",
      "Routing: from Theydon Bois to Upton Park\n",
      "Routing: from Upton Park to Theydon Bois\n",
      "Routing: from Ladbroke Grove to Hornchurch\n",
      "Routing: from Hornchurch to Ladbroke Grove\n",
      "Routing: from Rayners Lane to Edgware\n",
      "Routing: from Edgware to Rayners Lane\n",
      "Routing: from Chancery Lane to Tottenham Hale\n",
      "Routing: from Tottenham Hale to Chancery Lane\n",
      "Complete.\n",
      "CPU times: user 11.4 s, sys: 213 ms, total: 11.7 s\n",
      "Wall time: 20.1 s\n"
     ]
    }
   ],
   "source": [
    "%%time\n",
    "routes_am = get_routes(time_am)\n",
    "df_am = pd.concat(routes_am)\n",
    "df_am.reset_index(inplace=True, drop=True)\n",
    "\n",
    "routes_pm = get_routes(time_pm)\n",
    "df_pm = pd.concat(routes_pm)\n",
    "df_pm.reset_index(inplace=True, drop=True)"
   ]
  },
  {
   "cell_type": "code",
   "execution_count": 739,
   "metadata": {},
   "outputs": [],
   "source": [
    "df_am['period'] = 'am'\n",
    "df_pm['period'] = 'pm'\n",
    "df = pd.concat([df_am, df_pm])"
   ]
  },
  {
   "cell_type": "code",
   "execution_count": 741,
   "metadata": {},
   "outputs": [],
   "source": [
    "def get_full_hashcode(x):\n",
    "    y = ''\n",
    "    for seg in x:\n",
    "        y += str(seg['segmentTemplateHashCode'])\n",
    "    return y"
   ]
  },
  {
   "cell_type": "code",
   "execution_count": 742,
   "metadata": {},
   "outputs": [],
   "source": [
    "def get_transport_hashcode(x):\n",
    "    y = ''\n",
    "    for seg in x:\n",
    "        if 'serviceDirection' in seg.keys():\n",
    "            y += str(seg['segmentTemplateHashCode'])\n",
    "    return y"
   ]
  },
  {
   "cell_type": "code",
   "execution_count": 743,
   "metadata": {},
   "outputs": [],
   "source": [
    "df['hashcode'] = df.segments.apply(get_full_hashcode)\n",
    "df['hashcode_transport'] = df.segments.apply(get_transport_hashcode)"
   ]
  },
  {
   "cell_type": "code",
   "execution_count": 806,
   "metadata": {},
   "outputs": [],
   "source": [
    "# Sometimes we get two routes that are identical in departure time and mode of transport. Get rid of them.\n",
    "df.drop_duplicates(subset=['hashcode','depart'],inplace=True)"
   ]
  },
  {
   "cell_type": "markdown",
   "metadata": {},
   "source": [
    "#### Symmetry between AM and PM trips"
   ]
  },
  {
   "cell_type": "markdown",
   "metadata": {},
   "source": [
    "*Length of trips*"
   ]
  },
  {
   "cell_type": "code",
   "execution_count": 937,
   "metadata": {},
   "outputs": [],
   "source": [
    "symmetry = df.groupby(['hashcode_transport','period']).length.mean().unstack()\n",
    "symmetry['difference (minutes)'] = (symmetry['am'] - symmetry['pm']).abs()\n",
    "symmetry['difference (percent)'] = (symmetry['am'] - symmetry['pm']).abs()/symmetry['am'] * 100"
   ]
  },
  {
   "cell_type": "code",
   "execution_count": 939,
   "metadata": {},
   "outputs": [
    {
     "data": {
      "text/plain": [
       "Text(0.5,1,'Difference between AM and PM (percent)')"
      ]
     },
     "execution_count": 939,
     "metadata": {},
     "output_type": "execute_result"
    },
    {
     "data": {
      "image/png": "[encoded data removed]",
      "text/plain": [
       "<Figure size 720x288 with 2 Axes>"
      ]
     },
     "metadata": {},
     "output_type": "display_data"
    }
   ],
   "source": [
    "f,(ax1,ax2) = plt.subplots(1,2,figsize=(10,4))\n",
    "symmetry['difference (minutes)'].hist(ax=ax1)\n",
    "ax1.set_title('Difference between AM and PM (minutes)')\n",
    "symmetry['difference (percent)'].hist(ax=ax2)\n",
    "ax2.set_title('Difference between AM and PM (percent)')"
   ]
  },
  {
   "cell_type": "markdown",
   "metadata": {},
   "source": [
    "Therefore, for a given route and specific path, the maximum difference between AM and PM is up to 12 minutes. That being said, the difference is usually within 5 percent."
   ]
  },
  {
   "cell_type": "code",
   "execution_count": 884,
   "metadata": {},
   "outputs": [],
   "source": [
    "symmetry = df.loc[df.other_providers == ''].groupby(['route','direction','period']).length.min().unstack()\n",
    "symmetry['difference (minutes)'] = (symmetry['am'] - symmetry['pm']).abs()\n",
    "symmetry['difference (percent)'] = (symmetry['am'] - symmetry['pm']).abs()/symmetry['am'] * 100"
   ]
  },
  {
   "cell_type": "code",
   "execution_count": 885,
   "metadata": {},
   "outputs": [
    {
     "data": {
      "text/plain": [
       "<matplotlib.axes._subplots.AxesSubplot at 0x12933c128>"
      ]
     },
     "execution_count": 885,
     "metadata": {},
     "output_type": "execute_result"
    },
    {
     "data": {
      "image/png": "[encoded data removed]",
      "text/plain": [
       "<Figure size 720x288 with 2 Axes>"
      ]
     },
     "metadata": {},
     "output_type": "display_data"
    }
   ],
   "source": [
    "f,(ax1,ax2) = plt.subplots(1,2,figsize=(10,4))\n",
    "symmetry['difference (minutes)'].hist(ax=ax1)\n",
    "symmetry['difference (percent)'].hist(ax=ax2)"
   ]
  },
  {
   "cell_type": "markdown",
   "metadata": {},
   "source": [
    "When we only look at train routes (no bus connections), the difference between AM and PM is less pronounced. This is probably because there is no traffic."
   ]
  },
  {
   "cell_type": "markdown",
   "metadata": {},
   "source": [
    "*Frequency*"
   ]
  },
  {
   "cell_type": "code",
   "execution_count": 888,
   "metadata": {},
   "outputs": [],
   "source": [
    "symmetry = pd.DataFrame()\n",
    "for i,group in df.groupby(['hashcode_transport']):\n",
    "    am = group[group.period == 'am']\n",
    "    pm = group[group.period == 'pm']\n",
    "    symmetry.loc[i,'N_am'] = am.shape[0]\n",
    "    symmetry.loc[i,'N_pm'] = pm.shape[0]\n",
    "    symmetry.loc[i,'am'] = am.sort_values('depart').depart.diff().dropna().mean()/60\n",
    "    symmetry.loc[i,'pm'] = pm.sort_values('depart').depart.diff().dropna().mean()/60"
   ]
  },
  {
   "cell_type": "code",
   "execution_count": 889,
   "metadata": {},
   "outputs": [],
   "source": [
    "symmetry['difference (minutes)'] = (symmetry.am - symmetry.pm).abs()\n",
    "symmetry['difference (percent)'] = (symmetry.am - symmetry.pm).abs() / symmetry.am * 100"
   ]
  },
  {
   "cell_type": "code",
   "execution_count": 891,
   "metadata": {
    "scrolled": true
   },
   "outputs": [
    {
     "data": {
      "text/plain": [
       "<matplotlib.axes._subplots.AxesSubplot at 0x12961f320>"
      ]
     },
     "execution_count": 891,
     "metadata": {},
     "output_type": "execute_result"
    },
    {
     "data": {
      "image/png": "[encoded data removed]",
      "text/plain": [
       "<Figure size 720x288 with 2 Axes>"
      ]
     },
     "metadata": {},
     "output_type": "display_data"
    }
   ],
   "source": [
    "f,(ax1,ax2) = plt.subplots(1,2,figsize=(10,4))\n",
    "symmetry['difference (minutes)'].hist(ax=ax1)\n",
    "symmetry['difference (percent)'].hist(ax=ax2)"
   ]
  },
  {
   "cell_type": "markdown",
   "metadata": {},
   "source": [
    "Even though the difference in frequency is only 8 minutes, this corresponds to a percentage difference as high as 350%. This tells us that we cannot assume the network is directionless in regards to route frequency."
   ]
  },
  {
   "cell_type": "markdown",
   "metadata": {},
   "source": [
    "#### Symmetry in the direction of trips"
   ]
  },
  {
   "cell_type": "code",
   "execution_count": 960,
   "metadata": {},
   "outputs": [],
   "source": [
    "symmetry = df.groupby(['route','direction']).length.mean().unstack()\n",
    "symmetry['difference (minutes)'] = (symmetry[1] - symmetry[0]).abs()\n",
    "symmetry['difference (percent)'] = (symmetry[1] - symmetry[0]).abs()/symmetry[0] * 100"
   ]
  },
  {
   "cell_type": "code",
   "execution_count": 961,
   "metadata": {},
   "outputs": [
    {
     "data": {
      "text/plain": [
       "<matplotlib.axes._subplots.AxesSubplot at 0x12cb43fd0>"
      ]
     },
     "execution_count": 961,
     "metadata": {},
     "output_type": "execute_result"
    },
    {
     "data": {
      "image/png": "[encoded data removed]",
      "text/plain": [
       "<Figure size 720x288 with 2 Axes>"
      ]
     },
     "metadata": {},
     "output_type": "display_data"
    }
   ],
   "source": [
    "f,(ax1,ax2) = plt.subplots(1,2,figsize=(10,4))\n",
    "symmetry['difference (minutes)'].hist(ax=ax1)\n",
    "symmetry['difference (percent)'].hist(ax=ax2)"
   ]
  },
  {
   "cell_type": "markdown",
   "metadata": {},
   "source": [
    "We can see that, after excluding non-train trips, the time between directions differs by up to 8 minutes, or around 35% of the overall time duration. This is quite high. That being said, the trip length is usually within 10% between AM and PM."
   ]
  },
  {
   "cell_type": "markdown",
   "metadata": {},
   "source": [
    "#### Singularity"
   ]
  },
  {
   "cell_type": "markdown",
   "metadata": {},
   "source": [
    "For this we check that for a given route, the duration of the trip is relatively the same. We treat trips in the morning and in the afternoon as different trips, since, as we saw in the previous section, their difference is significant."
   ]
  },
  {
   "cell_type": "code",
   "execution_count": 942,
   "metadata": {},
   "outputs": [],
   "source": [
    "trips_unique = df.groupby(['hashcode_transport','period'])"
   ]
  },
  {
   "cell_type": "code",
   "execution_count": 944,
   "metadata": {},
   "outputs": [
    {
     "data": {
      "text/plain": [
       "Text(0.5,1,'Standard deviation as percentage of mean')"
      ]
     },
     "execution_count": 944,
     "metadata": {},
     "output_type": "execute_result"
    },
    {
     "data": {
      "image/png": "[encoded data removed]",
      "text/plain": [
       "<Figure size 720x288 with 2 Axes>"
      ]
     },
     "metadata": {},
     "output_type": "display_data"
    }
   ],
   "source": [
    "f,(ax1,ax2) = plt.subplots(1,2,figsize=(10,4))\n",
    "(trips_unique.length.std()).hist(ax=ax1)\n",
    "(trips_unique.length.std() / trips_unique.length.mean()).hist(ax=ax2)\n",
    "ax1.set_title('Standard deviation of trip length (minutes)')\n",
    "ax2.set_title('Standard deviation as percentage of mean')"
   ]
  },
  {
   "cell_type": "code",
   "execution_count": 950,
   "metadata": {},
   "outputs": [
    {
     "data": {
      "image/png": "[encoded data removed]",
      "text/plain": [
       "<Figure size 720x288 with 2 Axes>"
      ]
     },
     "metadata": {},
     "output_type": "display_data"
    }
   ],
   "source": [
    "f,(ax1,ax2) = plt.subplots(1,2,figsize=(10,4))\n",
    "((trips_unique.length.min() - trips_unique.length.mean()).abs() / trips_unique.length.mean()).hist(ax=ax1)\n",
    "((trips_unique.length.max() - trips_unique.length.mean()).abs() / trips_unique.length.mean()).hist(ax=ax2)\n",
    "ax1.set_title('Difference between minimum and\\nmean trip length (percent)')\n",
    "ax2.set_title('Difference between maximum and\\nmean trip length (percent)')\n",
    "f.tight_layout()"
   ]
  },
  {
   "cell_type": "markdown",
   "metadata": {},
   "source": [
    "We can see the standard deviation is usually low (around 2.5% of the overall trip length), but can be as high as 15%. When we look at max and min, the difference can reach up to over 20% (though is usually within 5%)."
   ]
  },
  {
   "cell_type": "code",
   "execution_count": 966,
   "metadata": {},
   "outputs": [],
   "source": [
    "df.to_csv('../data/tripgo/sample.csv')"
   ]
  },
  {
   "cell_type": "code",
   "execution_count": 971,
   "metadata": {},
   "outputs": [],
   "source": [
    "for i,seg in enumerate(segments):\n",
    "    seg.to_csv('../data/tripgo/segments/segments_{}.csv'.format(i))"
   ]
  },
  {
   "cell_type": "markdown",
   "metadata": {},
   "source": [
    "## API"
   ]
  },
  {
   "cell_type": "markdown",
   "metadata": {},
   "source": [
    "Helper functions to extract the routes for a list of pairs of coordinates"
   ]
  },
  {
   "cell_type": "code",
   "execution_count": 843,
   "metadata": {},
   "outputs": [],
   "source": [
    "def get_routes(depart_time, pairs, names):\n",
    "    url = 'https://api.tripgo.com/v1/'\n",
    "    \n",
    "    headers = {\n",
    "    'Accept': 'application/json',\n",
    "    'X-TripGo-Key': '5c1a480843464d538b24939c266be8b9',\n",
    "    }\n",
    "    \n",
    "    segments = []\n",
    "    routes = []\n",
    "    errors = []\n",
    "    for i,pair in enumerate(pairs):\n",
    "        try:\n",
    "            print('Routing: from {} to {}'.format(names[i][0], names[i][1]))\n",
    "            p2 = pair[0]\n",
    "            p1 = pair[1]\n",
    "            direction = i%2 # 0 for To and 1 for Return\n",
    "            # Set up request\n",
    "            params = (\n",
    "                ('from', str(p2)),\n",
    "                ('to', str(p1)),\n",
    "                ('modes', 'pt_pub'),\n",
    "                ('v', '11'),\n",
    "                ('locale', 'en'),\n",
    "                ('departAfter', depart_time - 1) #Subtract 1 since it's actually \"depart after\"\n",
    "            )\n",
    "\n",
    "            # Make request\n",
    "            response = requests.get('https://api.tripgo.com/v1/routing.json', headers=headers, params=params)\n",
    "\n",
    "            routing = json.loads(response.text)\n",
    "            segs = pd.DataFrame(routing['segmentTemplates'])\n",
    "            segs['route'] = int(i/2)\n",
    "            segs['direction'] = direction\n",
    "            segs['routeA'] = names[i][0]\n",
    "            segs['routeB'] = names[i][1]\n",
    "            segments.append(segs)\n",
    "\n",
    "            # For all groups\n",
    "            for j,group in enumerate(routing['groups']):\n",
    "                df = pd.DataFrame(group['trips'])\n",
    "                # Meta data\n",
    "                df['route'] = int(i/2)\n",
    "                df['direction'] = direction\n",
    "                df['routeA'] = names[i][0]\n",
    "                df['routeB'] = names[i][1]\n",
    "                df['group'] = j\n",
    "                df['num_segments'] = df.segments.apply(len)\n",
    "                # Preliminary processing\n",
    "                df['length'] = (df.arrive - df.depart)/60\n",
    "                df['depart_time'] = df.depart.apply(datetime.fromtimestamp)\n",
    "                df['arrive_time'] = df.arrive.apply(datetime.fromtimestamp)\n",
    "                # Check if it's a completely underground route\n",
    "                providers = ''\n",
    "                for source in routing['groups'][j]['sources']:\n",
    "                    name = source['provider']['name']\n",
    "                    if ('Underground' not in name) and ('OpenStreetMap' not in name) and ('London Overground' not in name):\n",
    "                        if len(providers):\n",
    "                            providers += ', '\n",
    "                        providers += name\n",
    "                if providers == '':\n",
    "                    # No other providers\n",
    "                    providers = np.nan\n",
    "                df['other_providers'] = providers\n",
    "                routes.append(df)\n",
    "        except Exception as e:\n",
    "            print('Could no complete: {} to {}'.format(names[i][0],names[i][1]))\n",
    "            print('Reason: ',e)\n",
    "            errors.append(names[i])\n",
    "            pass\n",
    "    print('Complete.')\n",
    "    return routes"
   ]
  },
  {
   "cell_type": "code",
   "execution_count": 846,
   "metadata": {},
   "outputs": [],
   "source": [
    "time = datetime(2018,12,5,8,0).timestamp()"
   ]
  },
  {
   "cell_type": "code",
   "execution_count": 847,
   "metadata": {},
   "outputs": [
    {
     "name": "stdout",
     "output_type": "stream",
     "text": [
      "Routing: from Shepherd's Bush 1 to Leicester Square\n",
      "Routing: from Shepherd's Bush 1 to Chancery Lane\n",
      "Routing: from Shepherd's Bush 1 to Euston\n",
      "Routing: from Shepherd's Bush 1 to Baker Street\n",
      "Routing: from Shepherd's Bush 1 to Hammersmith 1\n",
      "Routing: from Shepherd's Bush 1 to Westminster\n",
      "Routing: from Shepherd's Bush 1 to Paddington\n",
      "Routing: from Shepherd's Bush 1 to South Kensington\n",
      "Routing: from Shepherd's Bush 1 to Old Street\n",
      "Routing: from Shepherd's Bush 1 to Warren Street\n",
      "Routing: from Shepherd's Bush 1 to Stratford\n",
      "Routing: from Shepherd's Bush 1 to Holborn\n",
      "Routing: from Shepherd's Bush 1 to Piccadilly Circus\n",
      "Routing: from Shepherd's Bush 1 to Farringdon\n",
      "Routing: from Shepherd's Bush 1 to Tottenham Court Road\n",
      "Routing: from Shepherd's Bush 1 to Green Park\n",
      "Routing: from Shepherd's Bush 1 to Bond Street\n",
      "Routing: from Shepherd's Bush 1 to Waterloo\n",
      "Routing: from Shepherd's Bush 1 to Victoria\n",
      "Routing: from Shepherd's Bush 1 to Moorgate\n",
      "Routing: from Shepherd's Bush 1 to London Bridge\n",
      "Routing: from Shepherd's Bush 1 to King's Cross St. Pancras\n",
      "Routing: from Shepherd's Bush 1 to Liverpool Street\n",
      "Routing: from Shepherd's Bush 1 to Oxford Circus\n",
      "Routing: from Shepherd's Bush 1 to Canary Wharf\n",
      "Routing: from East Ham to Leicester Square\n",
      "Routing: from East Ham to Chancery Lane\n",
      "Routing: from East Ham to Euston\n",
      "Routing: from East Ham to Baker Street\n",
      "Routing: from East Ham to Hammersmith 1\n",
      "Routing: from East Ham to Westminster\n",
      "Routing: from East Ham to Paddington\n",
      "Routing: from East Ham to South Kensington\n",
      "Routing: from East Ham to Old Street\n",
      "Routing: from East Ham to Warren Street\n",
      "Routing: from East Ham to Stratford\n",
      "Routing: from East Ham to Holborn\n",
      "Routing: from East Ham to Piccadilly Circus\n",
      "Routing: from East Ham to Farringdon\n",
      "Routing: from East Ham to Tottenham Court Road\n",
      "Routing: from East Ham to Green Park\n",
      "Routing: from East Ham to Bond Street\n",
      "Routing: from East Ham to Waterloo\n",
      "Routing: from East Ham to Victoria\n",
      "Routing: from East Ham to Moorgate\n",
      "Routing: from East Ham to London Bridge\n",
      "Routing: from East Ham to King's Cross St. Pancras\n",
      "Routing: from East Ham to Liverpool Street\n",
      "Routing: from East Ham to Oxford Circus\n",
      "Routing: from East Ham to Canary Wharf\n",
      "Routing: from Stockwell to Leicester Square\n",
      "Routing: from Stockwell to Chancery Lane\n",
      "Routing: from Stockwell to Euston\n",
      "Routing: from Stockwell to Baker Street\n",
      "Routing: from Stockwell to Hammersmith 1\n",
      "Routing: from Stockwell to Westminster\n",
      "Routing: from Stockwell to Paddington\n",
      "Routing: from Stockwell to South Kensington\n",
      "Routing: from Stockwell to Old Street\n",
      "Routing: from Stockwell to Warren Street\n",
      "Routing: from Stockwell to Stratford\n",
      "Routing: from Stockwell to Holborn\n",
      "Routing: from Stockwell to Piccadilly Circus\n",
      "Routing: from Stockwell to Farringdon\n",
      "Routing: from Stockwell to Tottenham Court Road\n",
      "Routing: from Stockwell to Green Park\n",
      "Routing: from Stockwell to Bond Street\n",
      "Routing: from Stockwell to Waterloo\n",
      "Routing: from Stockwell to Victoria\n",
      "Routing: from Stockwell to Moorgate\n",
      "Routing: from Stockwell to London Bridge\n",
      "Routing: from Stockwell to King's Cross St. Pancras\n",
      "Routing: from Stockwell to Liverpool Street\n",
      "Routing: from Stockwell to Oxford Circus\n",
      "Routing: from Stockwell to Canary Wharf\n",
      "Routing: from Balham to Leicester Square\n",
      "Routing: from Balham to Chancery Lane\n",
      "Routing: from Balham to Euston\n",
      "Routing: from Balham to Baker Street\n",
      "Routing: from Balham to Hammersmith 1\n",
      "Routing: from Balham to Westminster\n",
      "Routing: from Balham to Paddington\n",
      "Routing: from Balham to South Kensington\n",
      "Routing: from Balham to Old Street\n",
      "Routing: from Balham to Warren Street\n",
      "Routing: from Balham to Stratford\n",
      "Routing: from Balham to Holborn\n",
      "Routing: from Balham to Piccadilly Circus\n",
      "Routing: from Balham to Farringdon\n",
      "Routing: from Balham to Tottenham Court Road\n",
      "Routing: from Balham to Green Park\n",
      "Routing: from Balham to Bond Street\n",
      "Routing: from Balham to Waterloo\n",
      "Routing: from Balham to Victoria\n",
      "Routing: from Balham to Moorgate\n",
      "Routing: from Balham to London Bridge\n",
      "Routing: from Balham to King's Cross St. Pancras\n",
      "Routing: from Balham to Liverpool Street\n",
      "Routing: from Balham to Oxford Circus\n",
      "Routing: from Balham to Canary Wharf\n",
      "Routing: from Ealing Broadway to Leicester Square\n",
      "Routing: from Ealing Broadway to Chancery Lane\n",
      "Routing: from Ealing Broadway to Euston\n",
      "Routing: from Ealing Broadway to Baker Street\n",
      "Routing: from Ealing Broadway to Hammersmith 1\n",
      "Routing: from Ealing Broadway to Westminster\n",
      "Routing: from Ealing Broadway to Paddington\n",
      "Routing: from Ealing Broadway to South Kensington\n",
      "Routing: from Ealing Broadway to Old Street\n",
      "Routing: from Ealing Broadway to Warren Street\n",
      "Routing: from Ealing Broadway to Stratford\n",
      "Routing: from Ealing Broadway to Holborn\n",
      "Routing: from Ealing Broadway to Piccadilly Circus\n",
      "Routing: from Ealing Broadway to Farringdon\n",
      "Routing: from Ealing Broadway to Tottenham Court Road\n",
      "Routing: from Ealing Broadway to Green Park\n",
      "Routing: from Ealing Broadway to Bond Street\n",
      "Routing: from Ealing Broadway to Waterloo\n",
      "Routing: from Ealing Broadway to Victoria\n",
      "Routing: from Ealing Broadway to Moorgate\n",
      "Routing: from Ealing Broadway to London Bridge\n",
      "Routing: from Ealing Broadway to King's Cross St. Pancras\n",
      "Routing: from Ealing Broadway to Liverpool Street\n",
      "Routing: from Ealing Broadway to Oxford Circus\n",
      "Routing: from Ealing Broadway to Canary Wharf\n",
      "Routing: from Euston to Leicester Square\n",
      "Routing: from Euston to Chancery Lane\n",
      "Routing: from Euston to Euston\n",
      "Could no complete: Euston to Euston\n",
      "Reason:  'segmentTemplates'\n",
      "Routing: from Euston to Baker Street\n",
      "Routing: from Euston to Hammersmith 1\n",
      "Routing: from Euston to Westminster\n",
      "Routing: from Euston to Paddington\n",
      "Routing: from Euston to South Kensington\n",
      "Routing: from Euston to Old Street\n",
      "Routing: from Euston to Warren Street\n",
      "Routing: from Euston to Stratford\n",
      "Routing: from Euston to Holborn\n",
      "Routing: from Euston to Piccadilly Circus\n",
      "Routing: from Euston to Farringdon\n",
      "Routing: from Euston to Tottenham Court Road\n",
      "Routing: from Euston to Green Park\n",
      "Routing: from Euston to Bond Street\n",
      "Routing: from Euston to Waterloo\n",
      "Routing: from Euston to Victoria\n",
      "Routing: from Euston to Moorgate\n",
      "Routing: from Euston to London Bridge\n",
      "Routing: from Euston to King's Cross St. Pancras\n",
      "Routing: from Euston to Liverpool Street\n",
      "Routing: from Euston to Oxford Circus\n",
      "Routing: from Euston to Canary Wharf\n",
      "Routing: from North Greenwich to Leicester Square\n",
      "Routing: from North Greenwich to Chancery Lane\n",
      "Routing: from North Greenwich to Euston\n",
      "Routing: from North Greenwich to Baker Street\n",
      "Routing: from North Greenwich to Hammersmith 1\n",
      "Routing: from North Greenwich to Westminster\n",
      "Routing: from North Greenwich to Paddington\n",
      "Routing: from North Greenwich to South Kensington\n",
      "Routing: from North Greenwich to Old Street\n",
      "Routing: from North Greenwich to Warren Street\n",
      "Routing: from North Greenwich to Stratford\n",
      "Routing: from North Greenwich to Holborn\n",
      "Routing: from North Greenwich to Piccadilly Circus\n",
      "Routing: from North Greenwich to Farringdon\n",
      "Routing: from North Greenwich to Tottenham Court Road\n",
      "Routing: from North Greenwich to Green Park\n",
      "Routing: from North Greenwich to Bond Street\n",
      "Routing: from North Greenwich to Waterloo\n",
      "Routing: from North Greenwich to Victoria\n",
      "Routing: from North Greenwich to Moorgate\n",
      "Routing: from North Greenwich to London Bridge\n",
      "Routing: from North Greenwich to King's Cross St. Pancras\n",
      "Routing: from North Greenwich to Liverpool Street\n",
      "Routing: from North Greenwich to Oxford Circus\n",
      "Routing: from North Greenwich to Canary Wharf\n",
      "Routing: from Barking to Leicester Square\n",
      "Routing: from Barking to Chancery Lane\n",
      "Routing: from Barking to Euston\n",
      "Routing: from Barking to Baker Street\n",
      "Routing: from Barking to Hammersmith 1\n",
      "Routing: from Barking to Westminster\n",
      "Routing: from Barking to Paddington\n",
      "Routing: from Barking to South Kensington\n",
      "Routing: from Barking to Old Street\n",
      "Routing: from Barking to Warren Street\n",
      "Routing: from Barking to Stratford\n",
      "Routing: from Barking to Holborn\n",
      "Routing: from Barking to Piccadilly Circus\n",
      "Routing: from Barking to Farringdon\n",
      "Routing: from Barking to Tottenham Court Road\n",
      "Routing: from Barking to Green Park\n",
      "Routing: from Barking to Bond Street\n",
      "Routing: from Barking to Waterloo\n",
      "Routing: from Barking to Victoria\n",
      "Routing: from Barking to Moorgate\n",
      "Routing: from Barking to London Bridge\n"
     ]
    },
    {
     "name": "stdout",
     "output_type": "stream",
     "text": [
      "Routing: from Barking to King's Cross St. Pancras\n",
      "Routing: from Barking to Liverpool Street\n",
      "Routing: from Barking to Oxford Circus\n",
      "Routing: from Barking to Canary Wharf\n",
      "Routing: from Seven Sisters to Leicester Square\n",
      "Routing: from Seven Sisters to Chancery Lane\n",
      "Routing: from Seven Sisters to Euston\n",
      "Routing: from Seven Sisters to Baker Street\n",
      "Routing: from Seven Sisters to Hammersmith 1\n",
      "Routing: from Seven Sisters to Westminster\n",
      "Routing: from Seven Sisters to Paddington\n",
      "Routing: from Seven Sisters to South Kensington\n",
      "Routing: from Seven Sisters to Old Street\n",
      "Routing: from Seven Sisters to Warren Street\n",
      "Routing: from Seven Sisters to Stratford\n",
      "Routing: from Seven Sisters to Holborn\n",
      "Routing: from Seven Sisters to Piccadilly Circus\n",
      "Routing: from Seven Sisters to Farringdon\n",
      "Routing: from Seven Sisters to Tottenham Court Road\n",
      "Routing: from Seven Sisters to Green Park\n",
      "Routing: from Seven Sisters to Bond Street\n",
      "Routing: from Seven Sisters to Waterloo\n",
      "Routing: from Seven Sisters to Victoria\n",
      "Routing: from Seven Sisters to Moorgate\n",
      "Routing: from Seven Sisters to London Bridge\n",
      "Routing: from Seven Sisters to King's Cross St. Pancras\n",
      "Routing: from Seven Sisters to Liverpool Street\n",
      "Routing: from Seven Sisters to Oxford Circus\n",
      "Routing: from Seven Sisters to Canary Wharf\n",
      "Routing: from Vauxhall to Leicester Square\n",
      "Routing: from Vauxhall to Chancery Lane\n",
      "Routing: from Vauxhall to Euston\n",
      "Routing: from Vauxhall to Baker Street\n",
      "Routing: from Vauxhall to Hammersmith 1\n",
      "Routing: from Vauxhall to Westminster\n",
      "Routing: from Vauxhall to Paddington\n",
      "Routing: from Vauxhall to South Kensington\n",
      "Routing: from Vauxhall to Old Street\n",
      "Routing: from Vauxhall to Warren Street\n",
      "Routing: from Vauxhall to Stratford\n",
      "Routing: from Vauxhall to Holborn\n",
      "Routing: from Vauxhall to Piccadilly Circus\n",
      "Routing: from Vauxhall to Farringdon\n",
      "Routing: from Vauxhall to Tottenham Court Road\n",
      "Routing: from Vauxhall to Green Park\n",
      "Routing: from Vauxhall to Bond Street\n",
      "Routing: from Vauxhall to Waterloo\n",
      "Routing: from Vauxhall to Victoria\n",
      "Routing: from Vauxhall to Moorgate\n",
      "Routing: from Vauxhall to London Bridge\n",
      "Routing: from Vauxhall to King's Cross St. Pancras\n",
      "Routing: from Vauxhall to Liverpool Street\n",
      "Routing: from Vauxhall to Oxford Circus\n",
      "Routing: from Vauxhall to Canary Wharf\n",
      "Routing: from Paddington to Leicester Square\n",
      "Routing: from Paddington to Chancery Lane\n",
      "Routing: from Paddington to Euston\n",
      "Routing: from Paddington to Baker Street\n",
      "Routing: from Paddington to Hammersmith 1\n",
      "Routing: from Paddington to Westminster\n",
      "Routing: from Paddington to Paddington\n",
      "Could no complete: Paddington to Paddington\n",
      "Reason:  'segmentTemplates'\n",
      "Routing: from Paddington to South Kensington\n",
      "Routing: from Paddington to Old Street\n",
      "Routing: from Paddington to Warren Street\n",
      "Routing: from Paddington to Stratford\n",
      "Routing: from Paddington to Holborn\n",
      "Routing: from Paddington to Piccadilly Circus\n",
      "Routing: from Paddington to Farringdon\n",
      "Routing: from Paddington to Tottenham Court Road\n",
      "Routing: from Paddington to Green Park\n",
      "Routing: from Paddington to Bond Street\n",
      "Routing: from Paddington to Waterloo\n",
      "Routing: from Paddington to Victoria\n",
      "Routing: from Paddington to Moorgate\n",
      "Routing: from Paddington to London Bridge\n",
      "Routing: from Paddington to King's Cross St. Pancras\n",
      "Routing: from Paddington to Liverpool Street\n",
      "Routing: from Paddington to Oxford Circus\n",
      "Routing: from Paddington to Canary Wharf\n",
      "Routing: from Stratford to Leicester Square\n",
      "Routing: from Stratford to Chancery Lane\n",
      "Routing: from Stratford to Euston\n",
      "Routing: from Stratford to Baker Street\n",
      "Routing: from Stratford to Hammersmith 1\n",
      "Routing: from Stratford to Westminster\n",
      "Routing: from Stratford to Paddington\n",
      "Routing: from Stratford to South Kensington\n",
      "Routing: from Stratford to Old Street\n",
      "Routing: from Stratford to Warren Street\n",
      "Routing: from Stratford to Stratford\n",
      "Could no complete: Stratford to Stratford\n",
      "Reason:  'segmentTemplates'\n",
      "Routing: from Stratford to Holborn\n",
      "Routing: from Stratford to Piccadilly Circus\n",
      "Routing: from Stratford to Farringdon\n",
      "Routing: from Stratford to Tottenham Court Road\n",
      "Routing: from Stratford to Green Park\n",
      "Routing: from Stratford to Bond Street\n",
      "Routing: from Stratford to Waterloo\n",
      "Routing: from Stratford to Victoria\n",
      "Routing: from Stratford to Moorgate\n",
      "Routing: from Stratford to London Bridge\n",
      "Routing: from Stratford to King's Cross St. Pancras\n",
      "Routing: from Stratford to Liverpool Street\n",
      "Routing: from Stratford to Oxford Circus\n",
      "Routing: from Stratford to Canary Wharf\n",
      "Routing: from Liverpool Street to Leicester Square\n",
      "Routing: from Liverpool Street to Chancery Lane\n",
      "Routing: from Liverpool Street to Euston\n",
      "Routing: from Liverpool Street to Baker Street\n",
      "Routing: from Liverpool Street to Hammersmith 1\n",
      "Routing: from Liverpool Street to Westminster\n",
      "Routing: from Liverpool Street to Paddington\n",
      "Routing: from Liverpool Street to South Kensington\n",
      "Routing: from Liverpool Street to Old Street\n",
      "Routing: from Liverpool Street to Warren Street\n",
      "Routing: from Liverpool Street to Stratford\n",
      "Routing: from Liverpool Street to Holborn\n",
      "Routing: from Liverpool Street to Piccadilly Circus\n",
      "Routing: from Liverpool Street to Farringdon\n",
      "Routing: from Liverpool Street to Tottenham Court Road\n",
      "Routing: from Liverpool Street to Green Park\n",
      "Routing: from Liverpool Street to Bond Street\n",
      "Routing: from Liverpool Street to Waterloo\n",
      "Routing: from Liverpool Street to Victoria\n",
      "Routing: from Liverpool Street to Moorgate\n",
      "Routing: from Liverpool Street to London Bridge\n",
      "Routing: from Liverpool Street to King's Cross St. Pancras\n",
      "Routing: from Liverpool Street to Liverpool Street\n",
      "Could no complete: Liverpool Street to Liverpool Street\n",
      "Reason:  'segmentTemplates'\n",
      "Routing: from Liverpool Street to Oxford Circus\n",
      "Routing: from Liverpool Street to Canary Wharf\n",
      "Routing: from Victoria to Leicester Square\n",
      "Routing: from Victoria to Chancery Lane\n",
      "Routing: from Victoria to Euston\n",
      "Routing: from Victoria to Baker Street\n",
      "Routing: from Victoria to Hammersmith 1\n",
      "Routing: from Victoria to Westminster\n",
      "Routing: from Victoria to Paddington\n",
      "Routing: from Victoria to South Kensington\n",
      "Routing: from Victoria to Old Street\n",
      "Routing: from Victoria to Warren Street\n",
      "Routing: from Victoria to Stratford\n",
      "Routing: from Victoria to Holborn\n",
      "Routing: from Victoria to Piccadilly Circus\n",
      "Routing: from Victoria to Farringdon\n",
      "Routing: from Victoria to Tottenham Court Road\n",
      "Routing: from Victoria to Green Park\n",
      "Routing: from Victoria to Bond Street\n",
      "Routing: from Victoria to Waterloo\n",
      "Routing: from Victoria to Victoria\n",
      "Could no complete: Victoria to Victoria\n",
      "Reason:  'segmentTemplates'\n",
      "Routing: from Victoria to Moorgate\n",
      "Routing: from Victoria to London Bridge\n",
      "Routing: from Victoria to King's Cross St. Pancras\n",
      "Routing: from Victoria to Liverpool Street\n",
      "Routing: from Victoria to Oxford Circus\n",
      "Routing: from Victoria to Canary Wharf\n",
      "Routing: from Finsbury Park to Leicester Square\n",
      "Routing: from Finsbury Park to Chancery Lane\n",
      "Routing: from Finsbury Park to Euston\n",
      "Routing: from Finsbury Park to Baker Street\n",
      "Routing: from Finsbury Park to Hammersmith 1\n",
      "Routing: from Finsbury Park to Westminster\n",
      "Routing: from Finsbury Park to Paddington\n",
      "Routing: from Finsbury Park to South Kensington\n",
      "Routing: from Finsbury Park to Old Street\n",
      "Routing: from Finsbury Park to Warren Street\n",
      "Routing: from Finsbury Park to Stratford\n",
      "Routing: from Finsbury Park to Holborn\n",
      "Routing: from Finsbury Park to Piccadilly Circus\n",
      "Routing: from Finsbury Park to Farringdon\n",
      "Routing: from Finsbury Park to Tottenham Court Road\n",
      "Routing: from Finsbury Park to Green Park\n",
      "Routing: from Finsbury Park to Bond Street\n",
      "Routing: from Finsbury Park to Waterloo\n",
      "Routing: from Finsbury Park to Victoria\n",
      "Routing: from Finsbury Park to Moorgate\n",
      "Routing: from Finsbury Park to London Bridge\n",
      "Routing: from Finsbury Park to King's Cross St. Pancras\n",
      "Routing: from Finsbury Park to Liverpool Street\n",
      "Routing: from Finsbury Park to Oxford Circus\n",
      "Routing: from Finsbury Park to Canary Wharf\n",
      "Routing: from London Bridge to Leicester Square\n",
      "Routing: from London Bridge to Chancery Lane\n",
      "Routing: from London Bridge to Euston\n",
      "Routing: from London Bridge to Baker Street\n",
      "Routing: from London Bridge to Hammersmith 1\n",
      "Routing: from London Bridge to Westminster\n",
      "Routing: from London Bridge to Paddington\n",
      "Routing: from London Bridge to South Kensington\n"
     ]
    },
    {
     "name": "stdout",
     "output_type": "stream",
     "text": [
      "Routing: from London Bridge to Old Street\n",
      "Routing: from London Bridge to Warren Street\n",
      "Routing: from London Bridge to Stratford\n",
      "Routing: from London Bridge to Holborn\n",
      "Routing: from London Bridge to Piccadilly Circus\n",
      "Routing: from London Bridge to Farringdon\n",
      "Routing: from London Bridge to Tottenham Court Road\n",
      "Routing: from London Bridge to Green Park\n",
      "Routing: from London Bridge to Bond Street\n",
      "Routing: from London Bridge to Waterloo\n",
      "Routing: from London Bridge to Victoria\n",
      "Routing: from London Bridge to Moorgate\n",
      "Routing: from London Bridge to London Bridge\n",
      "Could no complete: London Bridge to London Bridge\n",
      "Reason:  'segmentTemplates'\n",
      "Routing: from London Bridge to King's Cross St. Pancras\n",
      "Routing: from London Bridge to Liverpool Street\n",
      "Routing: from London Bridge to Oxford Circus\n",
      "Routing: from London Bridge to Canary Wharf\n",
      "Routing: from Brixton to Leicester Square\n",
      "Routing: from Brixton to Chancery Lane\n",
      "Routing: from Brixton to Euston\n",
      "Routing: from Brixton to Baker Street\n",
      "Routing: from Brixton to Hammersmith 1\n",
      "Routing: from Brixton to Westminster\n",
      "Routing: from Brixton to Paddington\n",
      "Routing: from Brixton to South Kensington\n",
      "Routing: from Brixton to Old Street\n",
      "Routing: from Brixton to Warren Street\n",
      "Routing: from Brixton to Stratford\n",
      "Routing: from Brixton to Holborn\n",
      "Routing: from Brixton to Piccadilly Circus\n",
      "Routing: from Brixton to Farringdon\n",
      "Routing: from Brixton to Tottenham Court Road\n",
      "Routing: from Brixton to Green Park\n",
      "Routing: from Brixton to Bond Street\n",
      "Routing: from Brixton to Waterloo\n",
      "Routing: from Brixton to Victoria\n",
      "Routing: from Brixton to Moorgate\n",
      "Routing: from Brixton to London Bridge\n",
      "Routing: from Brixton to King's Cross St. Pancras\n",
      "Routing: from Brixton to Liverpool Street\n",
      "Routing: from Brixton to Oxford Circus\n",
      "Routing: from Brixton to Canary Wharf\n",
      "Routing: from King's Cross St. Pancras to Leicester Square\n",
      "Routing: from King's Cross St. Pancras to Chancery Lane\n",
      "Routing: from King's Cross St. Pancras to Euston\n",
      "Routing: from King's Cross St. Pancras to Baker Street\n",
      "Routing: from King's Cross St. Pancras to Hammersmith 1\n",
      "Routing: from King's Cross St. Pancras to Westminster\n",
      "Routing: from King's Cross St. Pancras to Paddington\n",
      "Routing: from King's Cross St. Pancras to South Kensington\n",
      "Routing: from King's Cross St. Pancras to Old Street\n",
      "Routing: from King's Cross St. Pancras to Warren Street\n",
      "Routing: from King's Cross St. Pancras to Stratford\n",
      "Routing: from King's Cross St. Pancras to Holborn\n",
      "Routing: from King's Cross St. Pancras to Piccadilly Circus\n",
      "Routing: from King's Cross St. Pancras to Farringdon\n",
      "Routing: from King's Cross St. Pancras to Tottenham Court Road\n",
      "Routing: from King's Cross St. Pancras to Green Park\n",
      "Routing: from King's Cross St. Pancras to Bond Street\n",
      "Routing: from King's Cross St. Pancras to Waterloo\n",
      "Routing: from King's Cross St. Pancras to Victoria\n",
      "Routing: from King's Cross St. Pancras to Moorgate\n",
      "Routing: from King's Cross St. Pancras to London Bridge\n",
      "Routing: from King's Cross St. Pancras to King's Cross St. Pancras\n",
      "Could no complete: King's Cross St. Pancras to King's Cross St. Pancras\n",
      "Reason:  'segmentTemplates'\n",
      "Routing: from King's Cross St. Pancras to Liverpool Street\n",
      "Routing: from King's Cross St. Pancras to Oxford Circus\n",
      "Routing: from King's Cross St. Pancras to Canary Wharf\n",
      "Routing: from Waterloo to Leicester Square\n",
      "Routing: from Waterloo to Chancery Lane\n",
      "Routing: from Waterloo to Euston\n",
      "Routing: from Waterloo to Baker Street\n",
      "Routing: from Waterloo to Hammersmith 1\n",
      "Routing: from Waterloo to Westminster\n",
      "Routing: from Waterloo to Paddington\n",
      "Routing: from Waterloo to South Kensington\n",
      "Routing: from Waterloo to Old Street\n",
      "Routing: from Waterloo to Warren Street\n",
      "Routing: from Waterloo to Stratford\n",
      "Routing: from Waterloo to Holborn\n",
      "Routing: from Waterloo to Piccadilly Circus\n",
      "Routing: from Waterloo to Farringdon\n",
      "Routing: from Waterloo to Tottenham Court Road\n",
      "Routing: from Waterloo to Green Park\n",
      "Routing: from Waterloo to Bond Street\n",
      "Routing: from Waterloo to Waterloo\n",
      "Could no complete: Waterloo to Waterloo\n",
      "Reason:  'segmentTemplates'\n",
      "Routing: from Waterloo to Victoria\n",
      "Routing: from Waterloo to Moorgate\n",
      "Routing: from Waterloo to London Bridge\n",
      "Routing: from Waterloo to King's Cross St. Pancras\n",
      "Routing: from Waterloo to Liverpool Street\n",
      "Routing: from Waterloo to Oxford Circus\n",
      "Routing: from Waterloo to Canary Wharf\n",
      "Complete.\n",
      "CPU times: user 2min 38s, sys: 2.44 s, total: 2min 41s\n",
      "Wall time: 5min 30s\n"
     ]
    }
   ],
   "source": [
    "%%time\n",
    "\n",
    "routes = get_routes(int(time),pairs,names)"
   ]
  },
  {
   "cell_type": "code",
   "execution_count": 849,
   "metadata": {},
   "outputs": [],
   "source": [
    "df_routes = pd.concat(routes)"
   ]
  },
  {
   "cell_type": "code",
   "execution_count": 911,
   "metadata": {},
   "outputs": [],
   "source": [
    "timestr = datetime.now().strftime('%Y%m%d_%H%M%S')\n",
    "df_routes.to_csv('./output/routes_'+timestr+'.csv', index = False)"
   ]
  }
 ],
 "metadata": {
  "kernelspec": {
   "display_name": "Python 3",
   "language": "python",
   "name": "python3"
  },
  "language_info": {
   "codemirror_mode": {
    "name": "ipython",
    "version": 3
   },
   "file_extension": ".py",
   "mimetype": "text/x-python",
   "name": "python",
   "nbconvert_exporter": "python",
   "pygments_lexer": "ipython3",
   "version": "3.6.6"
  }
 },
 "nbformat": 4,
 "nbformat_minor": 2
}
