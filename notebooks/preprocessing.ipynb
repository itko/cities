{
 "cells": [
  {
   "cell_type": "code",
   "execution_count": 1,
   "metadata": {},
   "outputs": [],
   "source": [
    "import geopandas as gpd\n",
    "import pandas as pd\n",
    "import osmnx as ox\n",
    "import matplotlib.pyplot as plt\n",
    "import numpy as np\n",
    "import shapely"
   ]
  },
  {
   "cell_type": "code",
   "execution_count": 2,
   "metadata": {},
   "outputs": [],
   "source": [
    "PROJECTION=32630"
   ]
  },
  {
   "cell_type": "markdown",
   "metadata": {},
   "source": [
    "#### Output area geometry"
   ]
  },
  {
   "cell_type": "code",
   "execution_count": 3,
   "metadata": {},
   "outputs": [],
   "source": [
    "oa_geom = gpd.read_file('../data/london/shapes/oa/OA_2011_London_gen_MHW.shp')\n",
    "oa_geom.to_crs(epsg=PROJECTION, inplace=True)\n",
    "oa_geom.columns = oa_geom.columns.str.lower()\n",
    "# Some invalid geoms. Fix them.\n",
    "oa_geom.geometry = oa_geom.buffer(0)"
   ]
  },
  {
   "cell_type": "markdown",
   "metadata": {},
   "source": [
    "#### Output area census"
   ]
  },
  {
   "cell_type": "code",
   "execution_count": 4,
   "metadata": {},
   "outputs": [],
   "source": [
    "ages = [str(age) for age in range(18,65)]\n",
    "oa_pop = pd.read_csv('../data/london/census/output_area_mid-2017-estimates-london.csv', skiprows=4, usecols=['OA11CD', 'LSOA11CD', 'All Ages']+ages)\n",
    "oa_pop.rename(columns={'All Ages':'population'}, inplace=True)\n",
    "oa_pop.columns = oa_pop.columns.str.lower()\n",
    "\n",
    "# Remove apostrophes for thousand separators\n",
    "oa_pop.population = oa_pop.population.str.replace(\"'\",\"\")\n",
    "oa_pop.population = oa_pop.population.astype(int)\n",
    "\n",
    "# Create adult population\n",
    "oa_pop['adult_population'] = oa_pop[ages].sum(axis=1)\n",
    "oa_pop = oa_pop.drop(columns=ages)"
   ]
  },
  {
   "cell_type": "markdown",
   "metadata": {},
   "source": [
    "#### Station geometry"
   ]
  },
  {
   "cell_type": "code",
   "execution_count": 5,
   "metadata": {},
   "outputs": [],
   "source": [
    "station_geom = gpd.read_file('../data/london/shapes/stations/stations_mod.shp')\n",
    "# Change to UTM\n",
    "station_geom.to_crs(epsg=PROJECTION, inplace=True)\n",
    "# Remove the word \"Station\"\n",
    "station_geom.columns = station_geom.columns.str.lower()\n",
    "station_geom.rename(columns={'geometry':'location'}, inplace=True)\n",
    "station_geom.name = station_geom.name.str.replace('\\t','').str.replace('\\n','').str.replace(' Station','')\n",
    "station_geom.set_index('name', drop=True, inplace=True)\n",
    "\n",
    "# Read Voronoi cells\n",
    "station_voronoi = gpd.read_file('../data/london/shapes/stations/voronoi.shp')\n",
    "station_voronoi.to_crs(epsg=PROJECTION, inplace=True)\n",
    "station_voronoi.columns = station_voronoi.columns.str.lower()\n",
    "station_voronoi.rename(columns={'geometry':'cell'}, inplace=True)\n",
    "station_voronoi.name = station_voronoi.name.str.replace('\\t','').str.replace('\\n','').str.replace(' Station','')\n",
    "station_voronoi.set_index('name', drop=True, inplace=True)\n",
    "\n",
    "# Combine Voronoi with location\n",
    "station_geom['cell'] = station_voronoi.reindex(station_geom.index).cell"
   ]
  },
  {
   "cell_type": "markdown",
   "metadata": {},
   "source": [
    "#### Station ridership"
   ]
  },
  {
   "cell_type": "code",
   "execution_count": 6,
   "metadata": {},
   "outputs": [],
   "source": [
    "counts_en = pd.read_csv('/Users/itto/Documents/cities/data/london/counts/En17week_mod.csv', skiprows=6).set_index(' Station')\n",
    "counts_ex = pd.read_csv('/Users/itto/Documents/cities/data/london/counts/Ex17week.csv', skiprows=6).set_index(' Station')\n",
    "\n",
    "# We only care about the time columns\n",
    "time_columns = counts_en.columns[4:-8]\n",
    "\n",
    "# Easier to work with stations as columns, so transpose\n",
    "data_en = counts_en.loc[:, time_columns].T\n",
    "data_ex = counts_ex.loc[:, time_columns].T\n",
    "\n",
    "# Remove \"Total\" column\n",
    "data_en.drop('Total',axis=1,inplace=True)\n",
    "data_ex.drop('Total',axis=1,inplace=True)\n",
    "\n",
    "# Extract the first time\n",
    "data_en.index = data_en.index.str[:4]\n",
    "data_ex.index = data_en.index.str[:4]\n",
    "\n",
    "# Convert to datetime format\n",
    "data_en.index = pd.to_datetime(data_en.index, format='%H%M')\n",
    "data_ex.index = pd.to_datetime(data_en.index, format='%H%M')\n",
    "\n",
    "# Create a time of day index that we can use from now on\n",
    "time_of_day = {\n",
    "    6: 'morning',\n",
    "    7: 'morning',\n",
    "    8: 'morning',\n",
    "    9: 'morning',\n",
    "    11: 'off',\n",
    "    12: 'off',\n",
    "    13: 'off',\n",
    "    14: 'off',\n",
    "    16: 'afternoon',\n",
    "    17: 'afternoon',\n",
    "    18: 'afternoon',\n",
    "    19: 'afternoon'\n",
    "}\n",
    "time_of_day = data_en.index.hour.map(time_of_day).to_series()\n",
    "time_of_day[time_of_day.isnull()] = 'night'\n",
    "time_of_day = time_of_day.values"
   ]
  },
  {
   "cell_type": "code",
   "execution_count": 7,
   "metadata": {},
   "outputs": [],
   "source": [
    "# Get the entrances and exists for each time interval\n",
    "entrances = data_en.groupby(time_of_day).sum().T\n",
    "exits = data_ex.groupby(time_of_day).sum().T"
   ]
  },
  {
   "cell_type": "markdown",
   "metadata": {},
   "source": [
    "#### Combine the data"
   ]
  },
  {
   "cell_type": "code",
   "execution_count": 8,
   "metadata": {},
   "outputs": [],
   "source": [
    "# Combine population and ward geometry\n",
    "output_areas = pd.merge(oa_geom, oa_pop[['oa11cd','population','adult_population']], on=['oa11cd'])\n",
    "output_areas['density_actual'] = output_areas.population/output_areas.area * 1000000"
   ]
  },
  {
   "cell_type": "code",
   "execution_count": 9,
   "metadata": {},
   "outputs": [],
   "source": [
    "%%time\n",
    "wards = output_areas.dissolve('wd11cd_bf', aggfunc='sum', as_index=False)\n",
    "wards['density_actual'] = wards.population/wards.area * 1000000"
   ]
  },
  {
   "cell_type": "code",
   "execution_count": 10,
   "metadata": {},
   "outputs": [],
   "source": [
    "%%time\n",
    "boroughs = output_areas.dissolve('lad11nm', aggfunc='sum', as_index=False)\n",
    "boroughs['density_actual'] = boroughs.population/boroughs.area * 1000000"
   ]
  },
  {
   "cell_type": "code",
   "execution_count": 13,
   "metadata": {
    "scrolled": false
   },
   "outputs": [],
   "source": [
    "# Combine entrances and station locations data\n",
    "stations = pd.merge(station_geom, entrances, left_index=True, right_index=True)\n",
    "stations['station'] = stations.index"
   ]
  },
  {
   "cell_type": "markdown",
   "metadata": {},
   "source": [
    "#### Preprocess station zones"
   ]
  },
  {
   "cell_type": "code",
   "execution_count": 14,
   "metadata": {},
   "outputs": [],
   "source": [
    "# Buffer distance\n",
    "stations['zone'] = stations.set_geometry('location').buffer(500)"
   ]
  },
  {
   "cell_type": "code",
   "execution_count": 15,
   "metadata": {},
   "outputs": [
    {
     "name": "stderr",
     "output_type": "stream",
     "text": [
      "/Users/itto/miniconda3/envs/spatial/lib/python3.6/site-packages/geopandas/base.py:29: UserWarning: GeoSeries crs mismatch: {'init': 'epsg:32630', 'no_defs': True} and {'init': 'epsg:32630'}\n",
      "  other.crs))\n"
     ]
    }
   ],
   "source": [
    "# Extract some helpful geometries\n",
    "shp_london = gpd.read_file('../data/london/shapes/misc/london.shp')\n",
    "box = shapely.geometry.box(*boroughs.geometry.total_bounds.tolist()).buffer(2000)\n",
    "box = gpd.GeoDataFrame({'geometry':[box]})\n",
    "box.crs = stations.crs\n",
    "external = gpd.overlay(box, boroughs, how='difference')\n",
    "water = gpd.overlay(external, shp_london, how='intersection')\n",
    "external = gpd.overlay(external, water, how='difference')\n",
    "london_nowater = gpd.GeoDataFrame({'geometry':boroughs.union(external)},crs=stations.crs)"
   ]
  },
  {
   "cell_type": "code",
   "execution_count": 16,
   "metadata": {},
   "outputs": [],
   "source": [
    "# Voronoi cells encompass a large area. Restrict them to London.\n",
    "stations = gpd.overlay(stations.set_geometry('cell'), box)\n",
    "stations.rename(columns={'geometry':'cell'},inplace=True)"
   ]
  },
  {
   "cell_type": "code",
   "execution_count": 17,
   "metadata": {},
   "outputs": [],
   "source": [
    "# Restrict station zones to land\n",
    "stations = gpd.overlay(stations.set_geometry('zone'), water, how='difference')\n",
    "stations = stations.dissolve('station', as_index=False)\n",
    "stations.rename(columns={'geometry':'zone'},inplace=True)"
   ]
  },
  {
   "cell_type": "code",
   "execution_count": 18,
   "metadata": {},
   "outputs": [
    {
     "name": "stdout",
     "output_type": "stream",
     "text": [
      "Lost 1 rows while overlapping geometries\n"
     ]
    }
   ],
   "source": [
    "# Restrict zones to be within Voronoi cell\n",
    "n = stations.shape[0]\n",
    "stations = gpd.overlay(stations.set_geometry('zone'), stations.loc[:,['station','cell']].set_geometry('cell'))\n",
    "stations.rename(columns={'geometry':'zone'},inplace=True)\n",
    "# Each zone overlaps with multiple cells. Only get the cell corresponding to the zone's station.\n",
    "stations = stations.loc[stations.station_1 == stations.station_2]\n",
    "# We have duplicate columns. Keep only one. \n",
    "stations.drop('station_2',axis=1,inplace=True)\n",
    "stations.rename(columns={'station_1':'station'},inplace=True)\n",
    "stations.set_index('station',drop=True,inplace=True)\n",
    "print('Lost {} rows while overlapping geometries'.format(n - stations.shape[0]))"
   ]
  },
  {
   "cell_type": "code",
   "execution_count": null,
   "metadata": {},
   "outputs": [],
   "source": []
  }
 ],
 "metadata": {
  "kernelspec": {
   "display_name": "Python 3",
   "language": "python",
   "name": "python3"
  },
  "language_info": {
   "codemirror_mode": {
    "name": "ipython",
    "version": 3
   },
   "file_extension": ".py",
   "mimetype": "text/x-python",
   "name": "python",
   "nbconvert_exporter": "python",
   "pygments_lexer": "ipython3",
   "version": "3.6.6"
  }
 },
 "nbformat": 4,
 "nbformat_minor": 2
}
